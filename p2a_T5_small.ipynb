{
 "cells": [
  {
   "cell_type": "markdown",
   "metadata": {},
   "source": [
    "# Setup"
   ]
  },
  {
   "cell_type": "code",
   "execution_count": 1,
   "metadata": {},
   "outputs": [],
   "source": [
    "import logging\n",
    "\n",
    "import pandas as pd\n",
    "from simpletransformers.t5 import T5Model, T5Args\n",
    "\n",
    "from sklearn.model_selection import train_test_split\n",
    "\n",
    "logging.basicConfig(level=logging.INFO)\n",
    "transformers_logger = logging.getLogger(\"transformers\")\n",
    "transformers_logger.setLevel(logging.WARNING)"
   ]
  },
  {
   "cell_type": "markdown",
   "metadata": {},
   "source": [
    "# Data Preparation"
   ]
  },
  {
   "cell_type": "code",
   "execution_count": 2,
   "metadata": {},
   "outputs": [
    {
     "data": {
      "text/html": [
       "<div>\n",
       "<style scoped>\n",
       "    .dataframe tbody tr th:only-of-type {\n",
       "        vertical-align: middle;\n",
       "    }\n",
       "\n",
       "    .dataframe tbody tr th {\n",
       "        vertical-align: top;\n",
       "    }\n",
       "\n",
       "    .dataframe thead th {\n",
       "        text-align: right;\n",
       "    }\n",
       "</style>\n",
       "<table border=\"1\" class=\"dataframe\">\n",
       "  <thead>\n",
       "    <tr style=\"text-align: right;\">\n",
       "      <th></th>\n",
       "      <th>prefix</th>\n",
       "      <th>input_text</th>\n",
       "      <th>target_text</th>\n",
       "    </tr>\n",
       "  </thead>\n",
       "  <tbody>\n",
       "    <tr>\n",
       "      <th>0</th>\n",
       "      <td>en_passive_to_active</td>\n",
       "      <td>the curious penguin was eaten by the curious c...</td>\n",
       "      <td>the curious chicken near the playground ...</td>\n",
       "    </tr>\n",
       "    <tr>\n",
       "      <th>1</th>\n",
       "      <td>en_passive_to_active</td>\n",
       "      <td>a big penguin was complimented by a cow in the...</td>\n",
       "      <td>a cow in the stadium complimented a bi...</td>\n",
       "    </tr>\n",
       "    <tr>\n",
       "      <th>2</th>\n",
       "      <td>en_passive_to_active</td>\n",
       "      <td>a goofy rabbit was stalked by a goofy fish at ...</td>\n",
       "      <td>a goofy fish at a barn stalked a goofy rabbit</td>\n",
       "    </tr>\n",
       "    <tr>\n",
       "      <th>3</th>\n",
       "      <td>en_passive_to_active</td>\n",
       "      <td>a big fish by a field was hated by the happy pig</td>\n",
       "      <td>the happy pig hated a big fish by a field</td>\n",
       "    </tr>\n",
       "    <tr>\n",
       "      <th>4</th>\n",
       "      <td>en_passive_to_active</td>\n",
       "      <td>the cow was hated by a teacher</td>\n",
       "      <td>a teacher hated the cow</td>\n",
       "    </tr>\n",
       "  </tbody>\n",
       "</table>\n",
       "</div>"
      ],
      "text/plain": [
       "                 prefix                                         input_text  \\\n",
       "0  en_passive_to_active  the curious penguin was eaten by the curious c...   \n",
       "1  en_passive_to_active  a big penguin was complimented by a cow in the...   \n",
       "2  en_passive_to_active  a goofy rabbit was stalked by a goofy fish at ...   \n",
       "3  en_passive_to_active  a big fish by a field was hated by the happy pig    \n",
       "4  en_passive_to_active                    the cow was hated by a teacher    \n",
       "\n",
       "                                         target_text  \n",
       "0        the curious chicken near the playground ...  \n",
       "1          a cow in the stadium complimented a bi...  \n",
       "2     a goofy fish at a barn stalked a goofy rabbit   \n",
       "3         the happy pig hated a big fish by a field   \n",
       "4                           a teacher hated the cow   "
      ]
     },
     "execution_count": 2,
     "metadata": {},
     "output_type": "execute_result"
    }
   ],
   "source": [
    "data_df = pd.read_csv(\"./data/PassiveDataWidderTSV.tsv\", sep=\".\", names=[\"input_text\", \"target_text\",\"empty\"])\n",
    "data_df = data_df.drop(\"empty\", axis=1)\n",
    "data_df.insert(0,\"prefix\",\"en_passive_to_active\")\n",
    "\n",
    "data_df.head()"
   ]
  },
  {
   "cell_type": "markdown",
   "metadata": {},
   "source": [
    "# Data Splitting"
   ]
  },
  {
   "cell_type": "code",
   "execution_count": null,
   "metadata": {},
   "outputs": [],
   "source": [
    "train_df, eval_df = train_test_split(data_df, test_size=0.05)"
   ]
  },
  {
   "cell_type": "code",
   "execution_count": null,
   "metadata": {},
   "outputs": [],
   "source": [
    "train_df.shape # training dataset"
   ]
  },
  {
   "cell_type": "code",
   "execution_count": null,
   "metadata": {},
   "outputs": [],
   "source": [
    "eval_df.shape # evaluation dataset"
   ]
  },
  {
   "cell_type": "markdown",
   "metadata": {},
   "source": [
    "# Model Training"
   ]
  },
  {
   "cell_type": "code",
   "execution_count": null,
   "metadata": {
    "scrolled": false
   },
   "outputs": [],
   "source": [
    "# Configure the model\n",
    "model_args = T5Args()\n",
    "\n",
    "# Fix pytoch issue with Bad File descriptors\n",
    "# See this for more info: https://github.com/ThilinaRajapakse/simpletransformers/issues/789\n",
    "model_args.process_count = 1\n",
    "model_args.use_multiprocessing = False\n",
    "model_args.dataloader_num_workers = 1\n",
    "\n",
    "# Basic model params\n",
    "model_args.num_train_epochs = 200\n",
    "model_args.no_save = False\n",
    "model_args.reprocess_input_data = True\n",
    "model_args.overwrite_output_dir = True\n",
    "\n",
    "# Evaluate during training\n",
    "model_args.evaluate_generated_text = True\n",
    "model_args.evaluate_during_training = True\n",
    "model_args.evaluate_during_training_verbose = False\n",
    "\n",
    "# Don't save models every checkpoint\n",
    "model_args.save_eval_checkpoints = False\n",
    "model_args.save_model_every_epoch = False\n",
    "\n",
    "# Create T5 Model\n",
    "model = T5Model(\"t5-small\", args=model_args, use_cuda=False)\n",
    "\n",
    "# Train T5 Model on the new task\n",
    "model.train_model(train_df, eval_data=eval_df)"
   ]
  },
  {
   "cell_type": "markdown",
   "metadata": {},
   "source": [
    "# Model Evaluation"
   ]
  },
  {
   "cell_type": "code",
   "execution_count": null,
   "metadata": {},
   "outputs": [],
   "source": [
    "# Evaluate T5 Model on new task\n",
    "results = model.eval_model(eval_df)"
   ]
  },
  {
   "cell_type": "markdown",
   "metadata": {},
   "source": [
    "# Model Prediction"
   ]
  },
  {
   "cell_type": "code",
   "execution_count": null,
   "metadata": {},
   "outputs": [],
   "source": [
    "# Predict with trained T5 model\n",
    "print(model.predict([\"en_passive_to_active: our turkey was eaten by the dog\"]))"
   ]
  }
 ],
 "metadata": {
  "kernelspec": {
   "display_name": "Python 3",
   "language": "python",
   "name": "python3"
  },
  "language_info": {
   "codemirror_mode": {
    "name": "ipython",
    "version": 3
   },
   "file_extension": ".py",
   "mimetype": "text/x-python",
   "name": "python",
   "nbconvert_exporter": "python",
   "pygments_lexer": "ipython3",
   "version": "3.8.6"
  }
 },
 "nbformat": 4,
 "nbformat_minor": 4
}
